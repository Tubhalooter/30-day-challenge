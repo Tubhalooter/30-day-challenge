{
  "nbformat": 4,
  "nbformat_minor": 5,
  "metadata": {
    "celltoolbar": "Aucun(e)",
    "kernelspec": {
      "display_name": "Python 3",
      "language": "python",
      "name": "python3"
    },
    "language_info": {
      "codemirror_mode": {
        "name": "ipython",
        "version": 3
      },
      "file_extension": ".py",
      "mimetype": "text/x-python",
      "name": "python",
      "nbconvert_exporter": "python",
      "pygments_lexer": "ipython3",
      "version": "3.7.10"
    },
    "colab": {
      "name": "#1.ipynb",
      "provenance": []
    }
  },
  "cells": [
    {
      "cell_type": "markdown",
      "metadata": {
        "id": "adjacent-fitting"
      },
      "source": [
        "# Challenge 1\n",
        "\n",
        "Tasks: \n",
        "1. Import data from source\n",
        "2. Inspect the imported data (NumPy and Pandas libraries is the way to go imo)\n",
        "3. Clean the data if necessary, optionally normalise it (NumPy and Pandas)\n",
        "4. Visualise it and display the result (matplotlib, seaborn, altair, plotly, etc....)\n",
        "5. Build a dashboard for the visualisation (dash)"
      ],
      "id": "adjacent-fitting"
    },
    {
      "cell_type": "code",
      "metadata": {
        "id": "starting-roots"
      },
      "source": [
        "import yfinance as yf #https://pypi.org/project/yfinance/"
      ],
      "id": "starting-roots",
      "execution_count": null,
      "outputs": []
    },
    {
      "cell_type": "code",
      "metadata": {
        "id": "tracked-spanking"
      },
      "source": [
        "stock=yf.Ticker('MSFT')\n",
        "a=stock.history(period='Max')"
      ],
      "id": "tracked-spanking",
      "execution_count": null,
      "outputs": []
    },
    {
      "cell_type": "code",
      "metadata": {
        "id": "large-passage"
      },
      "source": [
        "print(a)"
      ],
      "id": "large-passage",
      "execution_count": null,
      "outputs": []
    },
    {
      "cell_type": "code",
      "metadata": {
        "id": "certain-function"
      },
      "source": [
        "a.Close.plot()"
      ],
      "id": "certain-function",
      "execution_count": null,
      "outputs": []
    },
    {
      "cell_type": "code",
      "metadata": {
        "id": "os3oE75eJGG2"
      },
      "source": [
        "# Test input cell from LS-io"
      ],
      "id": "os3oE75eJGG2",
      "execution_count": null,
      "outputs": []
    }
  ]
}