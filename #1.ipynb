{
 "cells": [
  {
   "cell_type": "markdown",
   "id": "adjacent-fitting",
   "metadata": {},
   "source": [
    "# Challenge 1\n",
    "\n",
    "Tasks: \n",
    "1. Import data from source\n",
    "2. Inspect the imported data (NumPy and Pandas libraries is the way to go imo)\n",
    "3. Clean the data if necessary, optionally normalise it (NumPy and Pandas)\n",
    "4. Visualise it and display the result (matplotlib, seaborn, altair, plotly, etc....)\n",
    "5. Build a dashboard for the visualisation (dash)"
   ]
  },
  {
   "cell_type": "code",
   "execution_count": null,
   "id": "starting-roots",
   "metadata": {},
   "outputs": [],
   "source": [
    "import yfinance as yf #https://pypi.org/project/yfinance/"
   ]
  },
  {
   "cell_type": "code",
   "execution_count": null,
   "id": "tracked-spanking",
   "metadata": {},
   "outputs": [],
   "source": [
    "stock=yf.Ticker('MSFT')\n",
    "a=stock.history(period='Max')"
   ]
  },
  {
   "cell_type": "code",
   "execution_count": null,
   "id": "large-passage",
   "metadata": {},
   "outputs": [],
   "source": [
    "print(a)"
   ]
  },
  {
   "cell_type": "code",
   "execution_count": null,
   "id": "certain-function",
   "metadata": {},
   "outputs": [],
   "source": [
    "a.Close.plot()"
   ]
  }
 ],
 "metadata": {
  "celltoolbar": "Aucun(e)",
  "kernelspec": {
   "display_name": "Python 3",
   "language": "python",
   "name": "python3"
  },
  "language_info": {
   "codemirror_mode": {
    "name": "ipython",
    "version": 3
   },
   "file_extension": ".py",
   "mimetype": "text/x-python",
   "name": "python",
   "nbconvert_exporter": "python",
   "pygments_lexer": "ipython3",
   "version": "3.7.10"
  }
 },
 "nbformat": 4,
 "nbformat_minor": 5
}
